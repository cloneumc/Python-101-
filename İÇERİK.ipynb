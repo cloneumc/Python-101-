{
 "cells": [
  {
   "cell_type": "code",
   "execution_count": 1,
   "id": "7480034c",
   "metadata": {},
   "outputs": [
    {
     "data": {
      "text/plain": [
       "10.5"
      ]
     },
     "execution_count": 1,
     "metadata": {},
     "output_type": "execute_result"
    }
   ],
   "source": [
    "          #!! ARITHMETIC & NUMERIC TYPES !! \n",
    "\n",
    "#1) Inteğer * float type yaptığımız için sonuç float tipinde gelecektir\n",
    "3*3.5"
   ]
  },
  {
   "cell_type": "code",
   "execution_count": 2,
   "id": "65c01728",
   "metadata": {},
   "outputs": [
    {
     "data": {
      "text/plain": [
       "1.4"
      ]
     },
     "execution_count": 2,
     "metadata": {},
     "output_type": "execute_result"
    }
   ],
   "source": [
    "7.0/5"
   ]
  },
  {
   "cell_type": "code",
   "execution_count": 36,
   "id": "5d148312",
   "metadata": {},
   "outputs": [
    {
     "data": {
      "text/plain": [
       "1"
      ]
     },
     "execution_count": 36,
     "metadata": {},
     "output_type": "execute_result"
    }
   ],
   "source": [
    "#2) BÖLÜM HESAPLAMA: // kullanınca, bölüm kısmını elde ederiz\n",
    "7//5"
   ]
  },
  {
   "cell_type": "code",
   "execution_count": 4,
   "id": "f9139464",
   "metadata": {},
   "outputs": [
    {
     "data": {
      "text/plain": [
       "2"
      ]
     },
     "execution_count": 4,
     "metadata": {},
     "output_type": "execute_result"
    }
   ],
   "source": [
    "#KALANI HESAPLAMA: % remainder kullanınca kalanı elde ederiz\n",
    "7%5"
   ]
  },
  {
   "cell_type": "code",
   "execution_count": 35,
   "id": "a54ff36c",
   "metadata": {},
   "outputs": [
    {
     "data": {
      "text/plain": [
       "-25"
      ]
     },
     "execution_count": 35,
     "metadata": {},
     "output_type": "execute_result"
    }
   ],
   "source": [
    "#3) İşlem Önceliği\n",
    "-5**2"
   ]
  },
  {
   "cell_type": "code",
   "execution_count": 7,
   "id": "9202806d",
   "metadata": {},
   "outputs": [
    {
     "data": {
      "text/plain": [
       "25"
      ]
     },
     "execution_count": 7,
     "metadata": {},
     "output_type": "execute_result"
    }
   ],
   "source": [
    "(-5)**2"
   ]
  },
  {
   "cell_type": "code",
   "execution_count": 8,
   "id": "ec8ddbd5",
   "metadata": {},
   "outputs": [
    {
     "data": {
      "text/plain": [
       "225"
      ]
     },
     "execution_count": 8,
     "metadata": {},
     "output_type": "execute_result"
    }
   ],
   "source": [
    "                  # !! VARIABLES !!\n",
    "#1) = kullanarak değişkenlere değer atayabiliriz.\n",
    "\n",
    "length=15\n",
    "width=3*5\n",
    "\n",
    "length*width"
   ]
  },
  {
   "cell_type": "code",
   "execution_count": 34,
   "id": "621cbca7",
   "metadata": {},
   "outputs": [
    {
     "ename": "NameError",
     "evalue": "name 'n' is not defined",
     "output_type": "error",
     "traceback": [
      "\u001b[1;31m---------------------------------------------------------------------------\u001b[0m",
      "\u001b[1;31mNameError\u001b[0m                                 Traceback (most recent call last)",
      "\u001b[1;32m<ipython-input-34-3540aa200edf>\u001b[0m in \u001b[0;36m<module>\u001b[1;34m\u001b[0m\n\u001b[0;32m      1\u001b[0m \u001b[1;31m#2) Python'da tanımsız bir değişken kullanınca, hata alırız\"\u001b[0m\u001b[1;33m\u001b[0m\u001b[1;33m\u001b[0m\u001b[1;33m\u001b[0m\u001b[0m\n\u001b[0;32m      2\u001b[0m \u001b[1;33m\u001b[0m\u001b[0m\n\u001b[1;32m----> 3\u001b[1;33m \u001b[0mn\u001b[0m\u001b[1;33m\u001b[0m\u001b[1;33m\u001b[0m\u001b[0m\n\u001b[0m",
      "\u001b[1;31mNameError\u001b[0m: name 'n' is not defined"
     ]
    }
   ],
   "source": [
    "#2) Python'da tanımsız bir değişken kullanınca, hata alırız\"\n",
    "\n",
    "n"
   ]
  },
  {
   "cell_type": "code",
   "execution_count": 12,
   "id": "a7d5d479",
   "metadata": {},
   "outputs": [
    {
     "data": {
      "text/plain": [
       "2.25435"
      ]
     },
     "execution_count": 12,
     "metadata": {},
     "output_type": "execute_result"
    }
   ],
   "source": [
    "tax = 11.3/100\n",
    "price = 19.95\n",
    "price*tax"
   ]
  },
  {
   "cell_type": "code",
   "execution_count": 13,
   "id": "afedd726",
   "metadata": {},
   "outputs": [
    {
     "data": {
      "text/plain": [
       "2"
      ]
     },
     "execution_count": 13,
     "metadata": {},
     "output_type": "execute_result"
    }
   ],
   "source": [
    "#3) round fonksiyonu\n",
    "#Floating veri türünü 2 ya da daha az ondalık ile belirtmek için\n",
    "\n",
    "round(price*tax)"
   ]
  },
  {
   "cell_type": "code",
   "execution_count": 14,
   "id": "42426108",
   "metadata": {},
   "outputs": [
    {
     "data": {
      "text/plain": [
       "(3.2, 1, 6)"
      ]
     },
     "execution_count": 14,
     "metadata": {},
     "output_type": "execute_result"
    }
   ],
   "source": [
    "#4) Tek bir satırda birden fazla değişken tanımlayabiliriz\n",
    "\n",
    "a,b,c = 3.2,1,6\n",
    "a,b,c"
   ]
  },
  {
   "cell_type": "code",
   "execution_count": 15,
   "id": "a41086a2",
   "metadata": {},
   "outputs": [
    {
     "data": {
      "text/plain": [
       "True"
      ]
     },
     "execution_count": 15,
     "metadata": {},
     "output_type": "execute_result"
    }
   ],
   "source": [
    "                    # !! EXPRESSIONS !!\n",
    "#1) Kıyaslamak için herhangi bir kısıtlama yok\n",
    "\n",
    "a,b,c = 1,2,3\n",
    "a<b<c"
   ]
  },
  {
   "cell_type": "code",
   "execution_count": 16,
   "id": "3a0c6847",
   "metadata": {},
   "outputs": [
    {
     "data": {
      "text/plain": [
       "2.4"
      ]
     },
     "execution_count": 16,
     "metadata": {},
     "output_type": "execute_result"
    }
   ],
   "source": [
    "#2) Karşılaştırma için built-in fonksiyonları da kullanabiliriz\n",
    "\n",
    "min(3,2.4,5)"
   ]
  },
  {
   "cell_type": "code",
   "execution_count": 17,
   "id": "1ae7a4ae",
   "metadata": {},
   "outputs": [
    {
     "data": {
      "text/plain": [
       "5"
      ]
     },
     "execution_count": 17,
     "metadata": {},
     "output_type": "execute_result"
    }
   ],
   "source": [
    "max(3,2.4,5)"
   ]
  },
  {
   "cell_type": "code",
   "execution_count": 18,
   "id": "ea7b5f5b",
   "metadata": {},
   "outputs": [
    {
     "data": {
      "text/plain": [
       "True"
      ]
     },
     "execution_count": 18,
     "metadata": {},
     "output_type": "execute_result"
    }
   ],
   "source": [
    "# 3) Karşılaştırma ifadelerini birleşik formatta.AND / OR / NOT\n",
    "\n",
    "1<2 and 2<3 "
   ]
  },
  {
   "cell_type": "code",
   "execution_count": 21,
   "id": "f0d5ed4a",
   "metadata": {},
   "outputs": [
    {
     "data": {
      "text/plain": [
       "True"
      ]
     },
     "execution_count": 21,
     "metadata": {},
     "output_type": "execute_result"
    }
   ],
   "source": [
    "1<2 or 1>2"
   ]
  },
  {
   "cell_type": "code",
   "execution_count": 22,
   "id": "5ecf258a",
   "metadata": {},
   "outputs": [
    {
     "data": {
      "text/plain": [
       "False"
      ]
     },
     "execution_count": 22,
     "metadata": {},
     "output_type": "execute_result"
    }
   ],
   "source": [
    "not(2<3)"
   ]
  },
  {
   "cell_type": "code",
   "execution_count": 23,
   "id": "4dbb802a",
   "metadata": {},
   "outputs": [
    {
     "data": {
      "text/plain": [
       "'Hi guyzz :)'"
      ]
     },
     "execution_count": 23,
     "metadata": {},
     "output_type": "execute_result"
    }
   ],
   "source": [
    "                    # !! STRING BASICS !!\n",
    "# Gösterim için ('') ya da (\"\") kullanılır. \n",
    "\n",
    "'Hi guyzz :)'"
   ]
  },
  {
   "cell_type": "code",
   "execution_count": 26,
   "id": "bdd39a75",
   "metadata": {},
   "outputs": [
    {
     "data": {
      "text/plain": [
       "\"doesn't\""
      ]
     },
     "execution_count": 26,
     "metadata": {},
     "output_type": "execute_result"
    }
   ],
   "source": [
    "#1) kesme ve tırnak işareti karışabilir\n",
    "#Kesme işareti için backslash ('') kullanılır\n",
    "\n",
    "\"doesn't\""
   ]
  },
  {
   "cell_type": "code",
   "execution_count": 33,
   "id": "20061072",
   "metadata": {},
   "outputs": [
    {
     "data": {
      "text/plain": [
       "'Python'"
      ]
     },
     "execution_count": 33,
     "metadata": {},
     "output_type": "execute_result"
    }
   ],
   "source": [
    "#2) String ifadeleri birleştirmek\n",
    "\n",
    "'Py' 'thon'"
   ]
  },
  {
   "cell_type": "markdown",
   "id": "c9f53385",
   "metadata": {},
   "source": [
    "### "
   ]
  },
  {
   "cell_type": "code",
   "execution_count": 38,
   "id": "050e2ace",
   "metadata": {},
   "outputs": [
    {
     "data": {
      "text/plain": [
       "'Python'"
      ]
     },
     "execution_count": 38,
     "metadata": {},
     "output_type": "execute_result"
    }
   ],
   "source": [
    "#3) String ve değişken birleştirmek için + kullanılır\n",
    "\n",
    "a = 'Py'\n",
    "a + 'thon'"
   ]
  },
  {
   "cell_type": "code",
   "execution_count": 1,
   "id": "460d25f2",
   "metadata": {},
   "outputs": [
    {
     "data": {
      "text/plain": [
       "'P'"
      ]
     },
     "execution_count": 1,
     "metadata": {},
     "output_type": "execute_result"
    }
   ],
   "source": [
    "                    # !! STRING INDEXING !!\n",
    "#1) String ifadeler için indexleme kullanabiliriz.\n",
    "word = 'Python'\n",
    "word [0]  #Dizinin ilk karakterinin indexi 0.\n"
   ]
  },
  {
   "cell_type": "code",
   "execution_count": 2,
   "id": "f490df9c",
   "metadata": {},
   "outputs": [
    {
     "data": {
      "text/plain": [
       "'n'"
      ]
     },
     "execution_count": 2,
     "metadata": {},
     "output_type": "execute_result"
    }
   ],
   "source": [
    "word [5]"
   ]
  },
  {
   "cell_type": "code",
   "execution_count": 3,
   "id": "fb92868f",
   "metadata": {},
   "outputs": [
    {
     "data": {
      "text/plain": [
       "'n'"
      ]
     },
     "execution_count": 3,
     "metadata": {},
     "output_type": "execute_result"
    }
   ],
   "source": [
    "# !NOT: İndex negatif bir sayı da olabilir.\n",
    "# Bu durumda index hesaplaması için, karakterleri saymaya sondan başlarız.\n",
    "\n",
    "#Örn: Önceki örnekter kelimenin son harfi 'n'. Bunu farklı bi şekilde nasıl\n",
    "#elde ederiz\n",
    "\n",
    "word[-1]"
   ]
  },
  {
   "cell_type": "code",
   "execution_count": 4,
   "id": "51b9f74b",
   "metadata": {},
   "outputs": [
    {
     "data": {
      "text/plain": [
       "'o'"
      ]
     },
     "execution_count": 4,
     "metadata": {},
     "output_type": "execute_result"
    }
   ],
   "source": [
    "# !! Saymaya sondan başladığımız için index kısmına \n",
    "#'-2' yazmamız sondan ikinci karakteri istediğimizi gösterir\n",
    "\n",
    "word[-2]"
   ]
  },
  {
   "cell_type": "code",
   "execution_count": 5,
   "id": "bdc5ecb3",
   "metadata": {},
   "outputs": [
    {
     "data": {
      "text/plain": [
       "'Py'"
      ]
     },
     "execution_count": 5,
     "metadata": {},
     "output_type": "execute_result"
    }
   ],
   "source": [
    "#2) Ek olarak, string ifadenin belirli bir kısmını da elde edebiliriz.\n",
    "    #Bunun için yapmamız gereken başlangıç ve bitişi olan bir aralık belirtm\n",
    "    # !!! Burda dikkat edilmesi gereken nokta:\n",
    "    # Başlangıç değeri böleceğimiz ifadeye dahil edilirken, \n",
    "    # bitiş değeri dahil edilmez. Önceki örnek üzerinden ilerleyelim\n",
    "word[0:2] # 0.karakter(included) 2.karakter(excluded)\n",
    "    "
   ]
  },
  {
   "cell_type": "code",
   "execution_count": 6,
   "id": "765ab83c",
   "metadata": {},
   "outputs": [
    {
     "data": {
      "text/plain": [
       "'tho'"
      ]
     },
     "execution_count": 6,
     "metadata": {},
     "output_type": "execute_result"
    }
   ],
   "source": [
    "word[2:5] #2.karakter(included) 5.karakter(excluded)"
   ]
  },
  {
   "cell_type": "code",
   "execution_count": 7,
   "id": "23f8a1a9",
   "metadata": {},
   "outputs": [
    {
     "data": {
      "text/plain": [
       "[1, 4, 9, 16, 25]"
      ]
     },
     "execution_count": 7,
     "metadata": {},
     "output_type": "execute_result"
    }
   ],
   "source": [
    "                    # !! LISTS !!\n",
    "# Veri türlerinden biri de listeler. \n",
    "# 1) Listeyi, virgülle ayrılmış değerler ya da köşeli parantez içindeki ögeler\n",
    "  # olarak düşünebiliriz.\n",
    "squares = [1,4,9,16,25]\n",
    "squares\n"
   ]
  },
  {
   "cell_type": "code",
   "execution_count": 8,
   "id": "5f083f16",
   "metadata": {},
   "outputs": [
    {
     "data": {
      "text/plain": [
       "1"
      ]
     },
     "execution_count": 8,
     "metadata": {},
     "output_type": "execute_result"
    }
   ],
   "source": [
    "# 2) Liste için de karakter bulma (indexing) yapmak mümkün\n",
    "squares[0]"
   ]
  },
  {
   "cell_type": "code",
   "execution_count": 9,
   "id": "74608a41",
   "metadata": {},
   "outputs": [
    {
     "data": {
      "text/plain": [
       "[9, 16, 25]"
      ]
     },
     "execution_count": 9,
     "metadata": {},
     "output_type": "execute_result"
    }
   ],
   "source": [
    "#3) Listede belirli bir aralığı ayırdığımız zaman, yeni bir\n",
    "  #liste oluşturmuş oluruz\n",
    "squares = [1,4,9,16,25]\n",
    "squares[-3:] #sondan 3.karakter:9. 9 ve sonraki karakterleri içeren yeni lis\n"
   ]
  },
  {
   "cell_type": "code",
   "execution_count": 13,
   "id": "9f600e48",
   "metadata": {},
   "outputs": [
    {
     "data": {
      "text/plain": [
       "[1, 4, 9, 16, 25, 36, 49, 64]"
      ]
     },
     "execution_count": 13,
     "metadata": {},
     "output_type": "execute_result"
    }
   ],
   "source": [
    "# 4) Stringlerde yaptığımız gibi listeleri de birleştirebiliriz\n",
    "squares = [1,4,9,16,25]\n",
    "squares +[36,49,64]\n"
   ]
  },
  {
   "cell_type": "code",
   "execution_count": 2,
   "id": "dd2bac3c",
   "metadata": {},
   "outputs": [
    {
     "data": {
      "text/plain": [
       "(1, 2, 3)"
      ]
     },
     "execution_count": 2,
     "metadata": {},
     "output_type": "execute_result"
    }
   ],
   "source": [
    "                    # !! TUPPLES !!\n",
    "#Python'da başka bir veri türü de tuples (demet) \n",
    "#Bu veri türü, değişmeyen bir veri türüdür. İçerisindeki ögeleri değiştirmey\n",
    " #denediğimizde hata ile karşılaşırız\n",
    "# Liste veri türüne benzer , farklı olarak () ile gösterilir.\n",
    "\n",
    "t = (1,2,3)\n",
    "t"
   ]
  },
  {
   "cell_type": "code",
   "execution_count": 3,
   "id": "4147cb68",
   "metadata": {},
   "outputs": [
    {
     "ename": "TypeError",
     "evalue": "'tuple' object does not support item assignment",
     "output_type": "error",
     "traceback": [
      "\u001b[1;31m---------------------------------------------------------------------------\u001b[0m",
      "\u001b[1;31mTypeError\u001b[0m                                 Traceback (most recent call last)",
      "\u001b[1;32m<ipython-input-3-1fbec8c04a7a>\u001b[0m in \u001b[0;36m<module>\u001b[1;34m\u001b[0m\n\u001b[0;32m      1\u001b[0m \u001b[1;31m# t içerisinde değişiklik yapmayı deneyelim\u001b[0m\u001b[1;33m\u001b[0m\u001b[1;33m\u001b[0m\u001b[1;33m\u001b[0m\u001b[0m\n\u001b[1;32m----> 2\u001b[1;33m \u001b[0mt\u001b[0m\u001b[1;33m[\u001b[0m\u001b[1;36m1\u001b[0m\u001b[1;33m]\u001b[0m \u001b[1;33m=\u001b[0m \u001b[1;36m2.0\u001b[0m\u001b[1;33m\u001b[0m\u001b[1;33m\u001b[0m\u001b[0m\n\u001b[0m",
      "\u001b[1;31mTypeError\u001b[0m: 'tuple' object does not support item assignment"
     ]
    }
   ],
   "source": [
    "# t içerisinde değişiklik yapmayı deneyelim\n",
    "t[1] = 2.0"
   ]
  },
  {
   "cell_type": "code",
   "execution_count": 4,
   "id": "8f2588dd",
   "metadata": {},
   "outputs": [
    {
     "data": {
      "text/plain": [
       "(1, 2)"
      ]
     },
     "execution_count": 4,
     "metadata": {},
     "output_type": "execute_result"
    }
   ],
   "source": [
    "# 1) Tupple içerisindeki ögeleri bölmek mümkün.\n",
    "# Önceki örnekte sadece 1 ve 2 yi yazdıralım\n",
    "\n",
    "t[:2]"
   ]
  },
  {
   "cell_type": "code",
   "execution_count": 1,
   "id": "b525c13c",
   "metadata": {},
   "outputs": [
    {
     "data": {
      "text/plain": [
       "('a', 'b', 'c')"
      ]
     },
     "execution_count": 1,
     "metadata": {},
     "output_type": "execute_result"
    }
   ],
   "source": [
    "# 2) Bir listeden tupple oluşturabilliriz. Şu şekilde\n",
    "l = ['a','b','c'] # 'l' liste formatında\n",
    "l = tuple(l)\n",
    "l"
   ]
  },
  {
   "cell_type": "code",
   "execution_count": 8,
   "id": "5faa108e",
   "metadata": {},
   "outputs": [
    {
     "data": {
      "text/plain": [
       "['a', 'b', 'c']"
      ]
     },
     "execution_count": 8,
     "metadata": {},
     "output_type": "execute_result"
    }
   ],
   "source": [
    "# 3) Benzer şekilde bir tupple'dan liste oluşturmak da mümkün.\n",
    "# Önceki örnekte l'yi tekrar liste yapalım:\n",
    "l = list(l)\n",
    "l"
   ]
  },
  {
   "cell_type": "code",
   "execution_count": 9,
   "id": "2bc7d6b1",
   "metadata": {},
   "outputs": [
    {
     "data": {
      "text/plain": [
       "True"
      ]
     },
     "execution_count": 9,
     "metadata": {},
     "output_type": "execute_result"
    }
   ],
   "source": [
    "# 4) Aynı zamanda yazdığımız kod içerisinde verilerin listeye ya da tupple'a\n",
    "  #dahil olduğunu da kontrol edebiliriz\n",
    "tup = ('a','b','c')\n",
    "'b' in tup"
   ]
  },
  {
   "cell_type": "code",
   "execution_count": 10,
   "id": "a9268e27",
   "metadata": {},
   "outputs": [
    {
     "data": {
      "text/plain": [
       "False"
      ]
     },
     "execution_count": 10,
     "metadata": {},
     "output_type": "execute_result"
    }
   ],
   "source": [
    "#Benzer şekilde verinin listeye ya da tupple'a dahil olmadığına bakmak \n",
    "#da mümkün.\n",
    "#Bunun için not in kullanmak yeterli olacaktır\n",
    "lis = ['a','b','c']\n",
    "'a' not in lis"
   ]
  },
  {
   "cell_type": "code",
   "execution_count": 11,
   "id": "f8fc476d",
   "metadata": {},
   "outputs": [
    {
     "data": {
      "text/plain": [
       "{'France': ('Paris', 2140526)}"
      ]
     },
     "execution_count": 11,
     "metadata": {},
     "output_type": "execute_result"
    }
   ],
   "source": [
    "                    # !! DICTIONARIES !!\n",
    "#Dictionary yapıları anahtarlar(unique keys) ve değerler(values) arasında\n",
    " #eleştirme yapabilmemizi sağlar. () içerisinde anahtar-değer çifti \n",
    " #listeleyerek dictionary oluşturabiliriz. Dictionary adı da {} içerisinde\n",
    "capitals = {'France': ('Paris',2140526)}\n",
    "capitals"
   ]
  },
  {
   "cell_type": "code",
   "execution_count": 12,
   "id": "272e1c17",
   "metadata": {},
   "outputs": [
    {
     "data": {
      "text/plain": [
       "{'France': ('Paris', 2140526), 'Nigeria': ('Lagos', 6048430)}"
      ]
     },
     "execution_count": 12,
     "metadata": {},
     "output_type": "execute_result"
    }
   ],
   "source": [
    "# 1)!!!! Dictionary anahtarları değişmez veri türünde olmalıdır.\n",
    " #String,sayı,tupple gibi\n",
    " # Örn: Liste değişken olduğu için dictionary anahtarı olamaz.\n",
    "# 2) Dictionaryde ekleme yapabilmek mümkün.Önceki örneğe ekleme yapalım\n",
    " #Anahtar : Nigeria olsun. Değer de farklı bir sayı olsun\n",
    "capitals['Nigeria'] = ('Lagos', 6048430)\n",
    "capitals\n"
   ]
  },
  {
   "cell_type": "code",
   "execution_count": 16,
   "id": "92663511",
   "metadata": {},
   "outputs": [
    {
     "data": {
      "text/plain": [
       "[1, 2, 3, 4, 5, 6, 7, 8, 9, 10]"
      ]
     },
     "execution_count": 16,
     "metadata": {},
     "output_type": "execute_result"
    }
   ],
   "source": [
    "                    # !! LIST COMPREHENSION !!\n",
    "#List comprehension mantığına bakalım.\n",
    "#Bu mantık temel oalrak algoritmik bir liste oluşturmaya dayanır.\n",
    "#Python'da sıklıkla kullanılır çünkü, listelerin oluşturulmasında hızlı bir\n",
    " #alternatif sağlar.\n",
    "    \n",
    "# 1)ÖRn olaraak: sadece 1den 11e kadr olan sayılarn listesini oluşturmak\n",
    " #istedik. Tek tek yazmak yerine burda list comprehension mantığnı\n",
    " #kullanabiliriz\n",
    "\n",
    "numbers = [x for x in range(1,11)]\n",
    "numbers\n"
   ]
  },
  {
   "cell_type": "code",
   "execution_count": 17,
   "id": "b1d3c96b",
   "metadata": {},
   "outputs": [
    {
     "data": {
      "text/plain": [
       "[1, 9, 25, 49, 81]"
      ]
     },
     "execution_count": 17,
     "metadata": {},
     "output_type": "execute_result"
    }
   ],
   "source": [
    "# 2)List comprehensionda mantıksal test yapabilmek de mümkün\n",
    "# ÖRn:Önceki örnekte x'in 2ye bölümünden kalan 0 değilse, o x değerinin\n",
    " #karesini yazdıran bi örnek yapalım\n",
    "\n",
    "odd_squares = [x*x for x in range(1,11) if x%2 != 0]\n",
    "odd_squares"
   ]
  },
  {
   "cell_type": "code",
   "execution_count": 18,
   "id": "f3e91e27",
   "metadata": {},
   "outputs": [
    {
     "ename": "NameError",
     "evalue": "name 'factorial' is not defined",
     "output_type": "error",
     "traceback": [
      "\u001b[1;31m---------------------------------------------------------------------------\u001b[0m",
      "\u001b[1;31mNameError\u001b[0m                                 Traceback (most recent call last)",
      "\u001b[1;32m<ipython-input-18-c13d6426dddd>\u001b[0m in \u001b[0;36m<module>\u001b[1;34m\u001b[0m\n\u001b[0;32m      6\u001b[0m  \u001b[1;31m# etmeden önce factorial() fonksiyonunu çalıştırırsak hata alırız\u001b[0m\u001b[1;33m\u001b[0m\u001b[1;33m\u001b[0m\u001b[1;33m\u001b[0m\u001b[0m\n\u001b[0;32m      7\u001b[0m \u001b[1;33m\u001b[0m\u001b[0m\n\u001b[1;32m----> 8\u001b[1;33m \u001b[0mfactorial\u001b[0m\u001b[1;33m(\u001b[0m\u001b[1;36m5\u001b[0m\u001b[1;33m)\u001b[0m\u001b[1;33m\u001b[0m\u001b[1;33m\u001b[0m\u001b[0m\n\u001b[0m\u001b[0;32m      9\u001b[0m \u001b[1;33m\u001b[0m\u001b[0m\n",
      "\u001b[1;31mNameError\u001b[0m: name 'factorial' is not defined"
     ]
    }
   ],
   "source": [
    "                    # !! IMPORTING MODULES !!\n",
    "# 1)Python'da tanımların yerleştirildiği dosyalara 'Python module' denir.\n",
    "# 2)Örn: 'factorial()' fonksiyony yerleşik olarak bulunan standard fonk \n",
    " #değil.\n",
    " # Matematik modülünün bir parçası.!!! Bu yüzden, matematik modülünü import\n",
    " # etmeden önce factorial() fonksiyonunu çalıştırırsak hata alırız\n",
    "\n",
    "factorial(5)\n",
    "    "
   ]
  },
  {
   "cell_type": "code",
   "execution_count": 19,
   "id": "ea695cdb",
   "metadata": {},
   "outputs": [
    {
     "data": {
      "text/plain": [
       "120"
      ]
     },
     "execution_count": 19,
     "metadata": {},
     "output_type": "execute_result"
    }
   ],
   "source": [
    "import math\n",
    "math.factorial(5)"
   ]
  },
  {
   "cell_type": "code",
   "execution_count": 20,
   "id": "44641bcd",
   "metadata": {},
   "outputs": [
    {
     "data": {
      "text/plain": [
       "120"
      ]
     },
     "execution_count": 20,
     "metadata": {},
     "output_type": "execute_result"
    }
   ],
   "source": [
    "# 3)Bu örneği şu şekilde de yazdırabiliriz\n",
    "from math import factorial\n",
    "factorial(5)"
   ]
  },
  {
   "cell_type": "code",
   "execution_count": null,
   "id": "2ff8d99f",
   "metadata": {},
   "outputs": [],
   "source": [
    "#!!!! Modülün ismini ilk olarak 'from math' şeklinde belirttiğimiz için\n",
    " # faktöriyel hesabında tekrardan matematik modülünün ismini belirtmemize\n",
    " # gerek kalmadı."
   ]
  }
 ],
 "metadata": {
  "kernelspec": {
   "display_name": "Python 3",
   "language": "python",
   "name": "python3"
  },
  "language_info": {
   "codemirror_mode": {
    "name": "ipython",
    "version": 3
   },
   "file_extension": ".py",
   "mimetype": "text/x-python",
   "name": "python",
   "nbconvert_exporter": "python",
   "pygments_lexer": "ipython3",
   "version": "3.8.8"
  }
 },
 "nbformat": 4,
 "nbformat_minor": 5
}
